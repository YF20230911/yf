{
 "cells": [
  {
   "cell_type": "code",
   "execution_count": 1,
   "metadata": {},
   "outputs": [],
   "source": [
    "f = lambda x, y, z: x+y+z\n",
    "\n",
    "#等价于\n",
    "\n",
    "def f(x, y, z):\n",
    "    tmp = x + y + z\n",
    "    return tmp"
   ]
  },
  {
   "cell_type": "code",
   "execution_count": 4,
   "metadata": {},
   "outputs": [
    {
     "data": {
      "text/plain": [
       "[6, 7, 8, 9, 10]"
      ]
     },
     "execution_count": 4,
     "metadata": {},
     "output_type": "execute_result"
    }
   ],
   "source": [
    "a = [1, 2, 3, 4, 5]\n",
    "f = lambda x: x + 5\n",
    "b = map(f, a)\n",
    "list(b)"
   ]
  },
  {
   "cell_type": "code",
   "execution_count": 6,
   "metadata": {},
   "outputs": [
    {
     "data": {
      "text/plain": [
       "[6, 7]"
      ]
     },
     "execution_count": 6,
     "metadata": {},
     "output_type": "execute_result"
    }
   ],
   "source": [
    "para = [1,2,3,4,5,6,7]\n",
    "avg = 5\n",
    "l = []\n",
    "for i in para:\n",
    "    if i > avg:\n",
    "        l.append(i)\n",
    "l = [i for i in para if i > avg]\n",
    "l"
   ]
  },
  {
   "cell_type": "markdown",
   "metadata": {},
   "source": [
    "#### 生成器函数"
   ]
  },
  {
   "cell_type": "code",
   "execution_count": 7,
   "metadata": {},
   "outputs": [],
   "source": [
    "def fib():\n",
    "    \"\"\"\n",
    "    斐波那契数列\n",
    "    \"\"\"\n",
    "    running = True\n",
    "    a, b = 1, 1\n",
    "    while running:\n",
    "        yield a\n",
    "        a, b = b, a + b"
   ]
  },
  {
   "cell_type": "code",
   "execution_count": 19,
   "metadata": {},
   "outputs": [
    {
     "data": {
      "text/plain": [
       "21"
      ]
     },
     "execution_count": 19,
     "metadata": {},
     "output_type": "execute_result"
    }
   ],
   "source": [
    "x = fib()\n",
    "x.__next__()\n",
    "\n",
    "x.__next__()\n",
    "x.__next__()\n",
    "x.__next__()\n",
    "x.__next__()\n",
    "x.__next__()\n",
    "x.__next__()\n",
    "x.__next__()\n",
    "\n"
   ]
  },
  {
   "cell_type": "code",
   "execution_count": 20,
   "metadata": {},
   "outputs": [
    {
     "name": "stdout",
     "output_type": "stream",
     "text": [
      "我执行在func之前\n",
      "im test1\n",
      "我执行在func之前\n",
      "im test2\n"
     ]
    }
   ],
   "source": [
    "def before(func):\n",
    "    def wrpper(*param1, **param2):\n",
    "        # 写函数执行之前的代码\n",
    "        print(\"我执行在func之前\")\n",
    "        result = func(*param1, **param2)\n",
    "        return result\n",
    "    return wrpper\n",
    "\n",
    "@before\n",
    "def test1():\n",
    "    print(\"im test1\")\n",
    "\n",
    "@before\n",
    "def test2():\n",
    "    print(\"im test2\")\n",
    "\n",
    "test1()\n",
    "test2()"
   ]
  },
  {
   "cell_type": "code",
   "execution_count": 27,
   "metadata": {},
   "outputs": [],
   "source": [
    "def before(func):\n",
    "    def wrpper(*a, **b):\n",
    "        \"\"\"\n",
    "        参数列表包含数值，则转换成字符串\n",
    "        \"\"\"\n",
    "        c = list(a[:])\n",
    "        for i in range(len(a)):\n",
    "            if isinstance(c[i], (int)):\n",
    "                c[i] = str(a[i])\n",
    "        return func(*c, **b)\n",
    "    return wrpper\n",
    "\n",
    "@before\n",
    "def test3(*a):\n",
    "    for i in a:\n",
    "        print(f\"{i}:{type(i)}\")\n"
   ]
  },
  {
   "cell_type": "code",
   "execution_count": 28,
   "metadata": {},
   "outputs": [
    {
     "name": "stdout",
     "output_type": "stream",
     "text": [
      "1:<class 'str'>\n",
      "2:<class 'str'>\n",
      "3:<class 'str'>\n",
      "4:<class 'str'>\n",
      "a:<class 'str'>\n",
      "6:<class 'str'>\n",
      "7:<class 'str'>\n",
      "8:<class 'str'>\n"
     ]
    }
   ],
   "source": [
    "test3(1,2,3,\"4\", \"a\", 6,7,8)"
   ]
  },
  {
   "cell_type": "markdown",
   "metadata": {},
   "source": [
    "#### 修饰器权限认证"
   ]
  },
  {
   "cell_type": "code",
   "execution_count": 32,
   "metadata": {},
   "outputs": [],
   "source": [
    "auth = {\n",
    "    'user' : 0,\n",
    "    'author': 1,\n",
    "    'admin': 3,\n",
    "}\n",
    "\n",
    "global_session = {\n",
    "    'name' : 'John',\n",
    "    'auth' : auth['admin'],\n",
    "}\n"
   ]
  },
  {
   "cell_type": "code",
   "execution_count": 33,
   "metadata": {},
   "outputs": [],
   "source": [
    "def checkAuthAdmin(func):\n",
    "    def wrpper(*a, **b):\n",
    "        if global_session['auth'] >= auth['admin']:\n",
    "            print(\"有权限执行\")\n",
    "            return func(*a, **b)\n",
    "        else:\n",
    "            print(\"你没有权限\")\n",
    "            return False\n",
    "    def a():\n",
    "        pass\n",
    "    \n",
    "    def b():\n",
    "        pass\n",
    "\n",
    "    return wrpper\n",
    "\n",
    "def f1():\n",
    "    print(\"不需要权限即可运行的程序\")\n",
    "\n",
    "@checkAuthAdmin\n",
    "def f2():\n",
    "    print(\"需要管理员权限才能运行的程序\")"
   ]
  },
  {
   "cell_type": "code",
   "execution_count": 34,
   "metadata": {},
   "outputs": [
    {
     "name": "stdout",
     "output_type": "stream",
     "text": [
      "不需要权限即可运行的程序\n",
      "有权限执行\n",
      "需要管理员权限才能运行的程序\n"
     ]
    }
   ],
   "source": [
    "f1()\n",
    "f2()"
   ]
  },
  {
   "cell_type": "code",
   "execution_count": 37,
   "metadata": {},
   "outputs": [],
   "source": [
    "def before(func):\n",
    "    def wrpper(*param1, **param2):\n",
    "        # 写函数执行之前的代码\n",
    "        print(\"*\"*20)\n",
    "        print(\"*\"*20)\n",
    "        # 主程序\n",
    "        result = func(*param1, **param2)\n",
    "        # 写函数执行之后的代码\n",
    "        print(\"=\"*20)\n",
    "        print(\"=\"*20)\n",
    "        return result\n",
    "    return wrpper\n",
    "\n",
    "@before\n",
    "def test1():\n",
    "    print(\"im test1\")"
   ]
  },
  {
   "cell_type": "code",
   "execution_count": 38,
   "metadata": {},
   "outputs": [
    {
     "name": "stdout",
     "output_type": "stream",
     "text": [
      "********************\n",
      "********************\n",
      "im test1\n",
      "====================\n",
      "====================\n"
     ]
    }
   ],
   "source": [
    "test1()"
   ]
  }
 ],
 "metadata": {
  "kernelspec": {
   "display_name": "py39",
   "language": "python",
   "name": "python3"
  },
  "language_info": {
   "codemirror_mode": {
    "name": "ipython",
    "version": 3
   },
   "file_extension": ".py",
   "mimetype": "text/x-python",
   "name": "python",
   "nbconvert_exporter": "python",
   "pygments_lexer": "ipython3",
   "version": "3.9.17"
  }
 },
 "nbformat": 4,
 "nbformat_minor": 2
}
